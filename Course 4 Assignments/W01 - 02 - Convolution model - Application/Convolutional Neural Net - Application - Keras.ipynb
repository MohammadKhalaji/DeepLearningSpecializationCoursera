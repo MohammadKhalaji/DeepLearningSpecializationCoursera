{
 "cells": [
  {
   "cell_type": "code",
   "execution_count": 1,
   "metadata": {},
   "outputs": [],
   "source": [
    "import tensorflow as tf\n",
    "from tensorflow.keras import datasets, layers, models\n",
    "import matplotlib.pyplot as plt\n",
    "import math\n",
    "import numpy as np\n",
    "import h5py\n",
    "import matplotlib.pyplot as plt\n",
    "import scipy\n",
    "from PIL import Image\n",
    "from scipy import ndimage\n",
    "from cnn_utils import *\n",
    "\n",
    "%matplotlib inline"
   ]
  },
  {
   "cell_type": "code",
   "execution_count": 2,
   "metadata": {},
   "outputs": [],
   "source": [
    "X_train_orig, Y_train_orig, X_test_orig, Y_test_orig, classes = load_dataset()"
   ]
  },
  {
   "cell_type": "code",
   "execution_count": 3,
   "metadata": {},
   "outputs": [
    {
     "name": "stdout",
     "output_type": "stream",
     "text": [
      "y = 2\n"
     ]
    },
    {
     "data": {
      "image/png": "[encoded data removed]",
      "text/plain": [
       "<Figure size 432x288 with 1 Axes>"
      ]
     },
     "metadata": {
      "needs_background": "light"
     },
     "output_type": "display_data"
    }
   ],
   "source": [
    "# Example of a picture\n",
    "index = 6\n",
    "plt.imshow(X_train_orig[index])\n",
    "print (\"y = \" + str(np.squeeze(Y_train_orig[:, index])))"
   ]
  },
  {
   "cell_type": "code",
   "execution_count": 4,
   "metadata": {},
   "outputs": [
    {
     "name": "stdout",
     "output_type": "stream",
     "text": [
      "number of training examples = 1080\n",
      "number of test examples = 120\n",
      "X_train shape: (1080, 64, 64, 3)\n",
      "Y_train shape: (1080, 6)\n",
      "X_test shape: (120, 64, 64, 3)\n",
      "Y_test shape: (120, 6)\n"
     ]
    }
   ],
   "source": [
    "X_train = X_train_orig/255.\n",
    "X_test = X_test_orig/255.\n",
    "Y_train = convert_to_one_hot(Y_train_orig, 6).T\n",
    "Y_test = convert_to_one_hot(Y_test_orig, 6).T\n",
    "print (\"number of training examples = \" + str(X_train.shape[0]))\n",
    "print (\"number of test examples = \" + str(X_test.shape[0]))\n",
    "print (\"X_train shape: \" + str(X_train.shape))\n",
    "print (\"Y_train shape: \" + str(Y_train.shape))\n",
    "print (\"X_test shape: \" + str(X_test.shape))\n",
    "print (\"Y_test shape: \" + str(Y_test.shape))\n"
   ]
  },
  {
   "cell_type": "code",
   "execution_count": 5,
   "metadata": {},
   "outputs": [],
   "source": [
    "model = models.Sequential()\n",
    "model.add(layers.Conv2D(kernel_size=(4, 4), filters=8, strides=(1, 1), padding='same', activation='relu', input_shape=(64, 64, 3)))\n",
    "model.add(layers.MaxPool2D(pool_size=(8, 8), strides=(8, 8), padding='same'))\n",
    "model.add(layers.Conv2D(kernel_size=(2, 2), filters=16, strides=(1, 1), padding='same', activation='relu'))\n",
    "model.add(layers.MaxPool2D(pool_size=(4, 4), strides=(4, 4), padding='same'))\n",
    "model.add(layers.Flatten())\n",
    "model.add(layers.Dense(6, activation='softmax'))"
   ]
  },
  {
   "cell_type": "code",
   "execution_count": 6,
   "metadata": {},
   "outputs": [
    {
     "name": "stdout",
     "output_type": "stream",
     "text": [
      "Model: \"sequential\"\n",
      "_________________________________________________________________\n",
      "Layer (type)                 Output Shape              Param #   \n",
      "=================================================================\n",
      "conv2d (Conv2D)              (None, 64, 64, 8)         392       \n",
      "_________________________________________________________________\n",
      "max_pooling2d (MaxPooling2D) (None, 8, 8, 8)           0         \n",
      "_________________________________________________________________\n",
      "conv2d_1 (Conv2D)            (None, 8, 8, 16)          528       \n",
      "_________________________________________________________________\n",
      "max_pooling2d_1 (MaxPooling2 (None, 2, 2, 16)          0         \n",
      "_________________________________________________________________\n",
      "flatten (Flatten)            (None, 64)                0         \n",
      "_________________________________________________________________\n",
      "dense (Dense)                (None, 6)                 390       \n",
      "=================================================================\n",
      "Total params: 1,310\n",
      "Trainable params: 1,310\n",
      "Non-trainable params: 0\n",
      "_________________________________________________________________\n"
     ]
    }
   ],
   "source": [
    "model.summary()"
   ]
  },
  {
   "cell_type": "code",
   "execution_count": 7,
   "metadata": {},
   "outputs": [],
   "source": [
    "model.compile(optimizer='adam', \n",
    "             loss=tf.keras.losses.CategoricalCrossentropy(from_logits=True), \n",
    "             metrics=['accuracy'])"
   ]
  },
  {
   "cell_type": "code",
   "execution_count": null,
   "metadata": {},
   "outputs": [
    {
     "name": "stdout",
     "output_type": "stream",
     "text": [
      "Epoch 1/100\n",
      "34/34 [==============================] - 1s 22ms/step - loss: 1.7922 - accuracy: 0.1796\n",
      "Epoch 2/100\n",
      "34/34 [==============================] - 1s 22ms/step - loss: 1.7907 - accuracy: 0.1685\n",
      "Epoch 3/100\n",
      "34/34 [==============================] - 1s 22ms/step - loss: 1.7893 - accuracy: 0.2556\n",
      "Epoch 4/100\n",
      "34/34 [==============================] - 1s 22ms/step - loss: 1.7886 - accuracy: 0.2157\n",
      "Epoch 5/100\n",
      "34/34 [==============================] - 1s 22ms/step - loss: 1.7865 - accuracy: 0.2204\n",
      "Epoch 6/100\n",
      "34/34 [==============================] - 1s 22ms/step - loss: 1.7837 - accuracy: 0.2407\n",
      "Epoch 7/100\n",
      "34/34 [==============================] - 1s 22ms/step - loss: 1.7788 - accuracy: 0.1787\n",
      "Epoch 8/100\n",
      "34/34 [==============================] - 1s 22ms/step - loss: 1.7712 - accuracy: 0.2407\n",
      "Epoch 9/100\n",
      "34/34 [==============================] - 1s 22ms/step - loss: 1.7574 - accuracy: 0.2065\n",
      "Epoch 10/100\n",
      "34/34 [==============================] - 1s 22ms/step - loss: 1.7407 - accuracy: 0.2685\n",
      "Epoch 11/100\n",
      "34/34 [==============================] - 1s 22ms/step - loss: 1.7177 - accuracy: 0.3278\n",
      "Epoch 12/100\n",
      "34/34 [==============================] - 1s 22ms/step - loss: 1.6945 - accuracy: 0.3907\n",
      "Epoch 13/100\n",
      "34/34 [==============================] - 1s 22ms/step - loss: 1.6744 - accuracy: 0.4185\n",
      "Epoch 14/100\n",
      "34/34 [==============================] - 1s 22ms/step - loss: 1.6453 - accuracy: 0.5019\n",
      "Epoch 15/100\n",
      "34/34 [==============================] - 1s 22ms/step - loss: 1.6171 - accuracy: 0.5315\n",
      "Epoch 16/100\n",
      "34/34 [==============================] - 1s 22ms/step - loss: 1.5960 - accuracy: 0.5306\n",
      "Epoch 17/100\n",
      "34/34 [==============================] - 1s 22ms/step - loss: 1.5710 - accuracy: 0.5657\n",
      "Epoch 18/100\n",
      "34/34 [==============================] - 1s 22ms/step - loss: 1.5475 - accuracy: 0.5843\n",
      "Epoch 19/100\n",
      "34/34 [==============================] - 1s 22ms/step - loss: 1.5209 - accuracy: 0.6185\n",
      "Epoch 20/100\n",
      "34/34 [==============================] - 1s 22ms/step - loss: 1.5042 - accuracy: 0.6287\n",
      "Epoch 21/100\n",
      "34/34 [==============================] - 1s 22ms/step - loss: 1.4861 - accuracy: 0.6426\n",
      "Epoch 22/100\n",
      "34/34 [==============================] - 1s 22ms/step - loss: 1.4692 - accuracy: 0.6556\n",
      "Epoch 23/100\n",
      "34/34 [==============================] - 1s 22ms/step - loss: 1.4556 - accuracy: 0.6648\n",
      "Epoch 24/100\n",
      "34/34 [==============================] - 1s 22ms/step - loss: 1.4451 - accuracy: 0.6704\n",
      "Epoch 25/100\n",
      "34/34 [==============================] - 1s 22ms/step - loss: 1.4250 - accuracy: 0.7009\n",
      "Epoch 26/100\n",
      "34/34 [==============================] - 1s 22ms/step - loss: 1.4119 - accuracy: 0.7185\n",
      "Epoch 27/100\n",
      "34/34 [==============================] - 1s 22ms/step - loss: 1.4076 - accuracy: 0.7120\n",
      "Epoch 28/100\n",
      "34/34 [==============================] - 1s 22ms/step - loss: 1.3994 - accuracy: 0.7204\n",
      "Epoch 29/100\n",
      "34/34 [==============================] - 1s 22ms/step - loss: 1.3906 - accuracy: 0.7278\n",
      "Epoch 30/100\n",
      "34/34 [==============================] - 1s 22ms/step - loss: 1.3788 - accuracy: 0.7417\n",
      "Epoch 31/100\n",
      "34/34 [==============================] - 1s 22ms/step - loss: 1.3678 - accuracy: 0.7343\n",
      "Epoch 32/100\n",
      "34/34 [==============================] - 1s 22ms/step - loss: 1.3626 - accuracy: 0.7481\n",
      "Epoch 33/100\n",
      "34/34 [==============================] - 1s 22ms/step - loss: 1.3506 - accuracy: 0.7648\n",
      "Epoch 34/100\n",
      "34/34 [==============================] - 1s 22ms/step - loss: 1.3435 - accuracy: 0.7611\n",
      "Epoch 35/100\n",
      "34/34 [==============================] - 1s 22ms/step - loss: 1.3354 - accuracy: 0.7602\n",
      "Epoch 36/100\n",
      "34/34 [==============================] - 1s 22ms/step - loss: 1.3294 - accuracy: 0.7759\n",
      "Epoch 37/100\n",
      "34/34 [==============================] - 1s 22ms/step - loss: 1.3317 - accuracy: 0.7759\n",
      "Epoch 38/100\n",
      "34/34 [==============================] - 1s 22ms/step - loss: 1.3175 - accuracy: 0.7917\n",
      "Epoch 39/100\n",
      "34/34 [==============================] - 1s 22ms/step - loss: 1.3133 - accuracy: 0.7852\n",
      "Epoch 40/100\n",
      "34/34 [==============================] - 1s 22ms/step - loss: 1.3088 - accuracy: 0.7954\n",
      "Epoch 41/100\n",
      "34/34 [==============================] - 1s 22ms/step - loss: 1.3002 - accuracy: 0.8056\n",
      "Epoch 42/100\n",
      "34/34 [==============================] - 1s 22ms/step - loss: 1.2978 - accuracy: 0.7981\n",
      "Epoch 43/100\n",
      "34/34 [==============================] - 1s 22ms/step - loss: 1.2915 - accuracy: 0.8019\n",
      "Epoch 44/100\n",
      "34/34 [==============================] - 1s 22ms/step - loss: 1.2901 - accuracy: 0.8037\n",
      "Epoch 45/100\n",
      "34/34 [==============================] - 1s 22ms/step - loss: 1.2841 - accuracy: 0.8046\n",
      "Epoch 46/100\n",
      "34/34 [==============================] - 1s 22ms/step - loss: 1.2793 - accuracy: 0.8111\n",
      "Epoch 47/100\n",
      "34/34 [==============================] - 1s 22ms/step - loss: 1.2773 - accuracy: 0.8120\n",
      "Epoch 48/100\n",
      "34/34 [==============================] - 1s 22ms/step - loss: 1.2785 - accuracy: 0.8148\n",
      "Epoch 49/100\n",
      "34/34 [==============================] - 1s 22ms/step - loss: 1.2698 - accuracy: 0.8213\n",
      "Epoch 50/100\n",
      "34/34 [==============================] - 1s 22ms/step - loss: 1.2632 - accuracy: 0.8250\n",
      "Epoch 51/100\n",
      "34/34 [==============================] - 1s 22ms/step - loss: 1.2635 - accuracy: 0.8352\n",
      "Epoch 52/100\n",
      "34/34 [==============================] - 1s 22ms/step - loss: 1.2593 - accuracy: 0.8324\n",
      "Epoch 53/100\n",
      "34/34 [==============================] - 1s 22ms/step - loss: 1.2619 - accuracy: 0.8269\n",
      "Epoch 54/100\n",
      "34/34 [==============================] - 1s 22ms/step - loss: 1.2558 - accuracy: 0.8343\n",
      "Epoch 55/100\n",
      "34/34 [==============================] - 1s 22ms/step - loss: 1.2535 - accuracy: 0.8370\n",
      "Epoch 56/100\n",
      "34/34 [==============================] - 1s 22ms/step - loss: 1.2526 - accuracy: 0.8343\n",
      "Epoch 57/100\n",
      "34/34 [==============================] - 1s 23ms/step - loss: 1.2504 - accuracy: 0.8324\n",
      "Epoch 58/100\n",
      "34/34 [==============================] - 1s 23ms/step - loss: 1.2506 - accuracy: 0.8352\n",
      "Epoch 59/100\n",
      "34/34 [==============================] - 1s 23ms/step - loss: 1.2504 - accuracy: 0.8380\n",
      "Epoch 60/100\n",
      "34/34 [==============================] - 1s 22ms/step - loss: 1.2381 - accuracy: 0.8509\n",
      "Epoch 61/100\n",
      "34/34 [==============================] - 1s 23ms/step - loss: 1.2363 - accuracy: 0.8463\n",
      "Epoch 62/100\n",
      "34/34 [==============================] - 1s 23ms/step - loss: 1.2322 - accuracy: 0.8481\n",
      "Epoch 63/100\n",
      "34/34 [==============================] - 1s 22ms/step - loss: 1.2296 - accuracy: 0.8509\n",
      "Epoch 64/100\n",
      "34/34 [==============================] - 1s 22ms/step - loss: 1.2301 - accuracy: 0.8537\n",
      "Epoch 65/100\n",
      "34/34 [==============================] - 1s 22ms/step - loss: 1.2316 - accuracy: 0.8454\n",
      "Epoch 66/100\n",
      "34/34 [==============================] - 1s 22ms/step - loss: 1.2228 - accuracy: 0.8583\n",
      "Epoch 67/100\n",
      "34/34 [==============================] - 1s 22ms/step - loss: 1.2255 - accuracy: 0.8519\n",
      "Epoch 68/100\n",
      "34/34 [==============================] - 1s 22ms/step - loss: 1.2207 - accuracy: 0.8537\n",
      "Epoch 69/100\n",
      "34/34 [==============================] - 1s 22ms/step - loss: 1.2164 - accuracy: 0.8657\n",
      "Epoch 70/100\n",
      "34/34 [==============================] - 1s 22ms/step - loss: 1.2146 - accuracy: 0.8667\n",
      "Epoch 71/100\n",
      "34/34 [==============================] - 1s 22ms/step - loss: 1.2129 - accuracy: 0.8639\n",
      "Epoch 72/100\n",
      "10/34 [=======>......................] - ETA: 0s - loss: 1.2146 - accuracy: 0.8687"
     ]
    }
   ],
   "source": [
    "hist = model.fit(X_train, Y_train, epochs=100)"
   ]
  },
  {
   "cell_type": "code",
   "execution_count": null,
   "metadata": {},
   "outputs": [],
   "source": [
    "test_loss, test_acc = model.evaluate(X_test,  Y_test, verbose=2)"
   ]
  },
  {
   "cell_type": "code",
   "execution_count": null,
   "metadata": {},
   "outputs": [],
   "source": []
  }
 ],
 "metadata": {
  "kernelspec": {
   "display_name": "Python 3",
   "language": "python",
   "name": "python3"
  },
  "language_info": {
   "codemirror_mode": {
    "name": "ipython",
    "version": 3
   },
   "file_extension": ".py",
   "mimetype": "text/x-python",
   "name": "python",
   "nbconvert_exporter": "python",
   "pygments_lexer": "ipython3",
   "version": "3.7.6"
  }
 },
 "nbformat": 4,
 "nbformat_minor": 4
}
